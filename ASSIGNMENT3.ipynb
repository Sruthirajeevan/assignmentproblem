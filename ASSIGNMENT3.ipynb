{
  "nbformat": 4,
  "nbformat_minor": 0,
  "metadata": {
    "colab": {
      "provenance": []
    },
    "kernelspec": {
      "name": "python3",
      "display_name": "Python 3"
    },
    "language_info": {
      "name": "python"
    }
  },
  "cells": [
    {
      "cell_type": "markdown",
      "source": [
        "1.ANSWER"
      ],
      "metadata": {
        "id": "c_NfUimO3GsK"
      }
    },
    {
      "cell_type": "code",
      "execution_count": null,
      "metadata": {
        "colab": {
          "base_uri": "https://localhost:8080/"
        },
        "id": "QF30QTXAzSoz",
        "outputId": "f411eef8-2f26-4d86-da26-a997a43d0001"
      },
      "outputs": [
        {
          "output_type": "stream",
          "name": "stdout",
          "text": [
            "enter first number2\n",
            "enter second number3\n",
            "enter third number8\n",
            "middle value= 3\n"
          ]
        }
      ],
      "source": [
        "def mid_value(n1,n2,n3):\n",
        "  list1=[n1,n2,n3]\n",
        "  middle=(len(list1)+1)/2\n",
        "  print(\"middle value=\",list1[int(middle)-1])\n",
        "n1=int(input(\"enter first number\"))\n",
        "n2=int(input(\"enter second number\"))\n",
        "n3=int(input(\"enter third number\"))\n",
        "mid_value(n1,n2,n3)\n"
      ]
    },
    {
      "cell_type": "markdown",
      "source": [
        "2.ANSWER"
      ],
      "metadata": {
        "id": "N5HW8YNE3NIm"
      }
    },
    {
      "cell_type": "code",
      "source": [
        "def add(n1,n2):\n",
        "  result=n1+n2\n",
        "  return result\n",
        "def sub(n1,n2):\n",
        "  result=n1-n2\n",
        "  return result\n",
        "def multi(n1,n2):\n",
        "  result=n1*n2\n",
        "  return result\n",
        "def divi(n1,n2):\n",
        "  result=n1/n2\n",
        "  return result\n",
        "n1=int(input(\"enter first number\"))\n",
        "n2=int(input(\"enter the second number\"))\n",
        "\n",
        "print(\"1.addition\\n2.subtraction\\n3.multiplication\\n4.division\")\n",
        "option=int(input(\"enter your option:\"))\n",
        "if(option==1):\n",
        "  print(add(n1,n2))\n",
        "if(option==2):\n",
        "  print(sub(n1,n2))\n",
        "if(option==3):\n",
        "  print(multi(n1,n2))\n",
        "if(option==4):\n",
        "  print(divi(n1,n2))"
      ],
      "metadata": {
        "colab": {
          "base_uri": "https://localhost:8080/"
        },
        "id": "zIrtAg_f15sK",
        "outputId": "0ab7c2a2-0193-4215-92dd-603daca7dd5e"
      },
      "execution_count": null,
      "outputs": [
        {
          "output_type": "stream",
          "name": "stdout",
          "text": [
            "enter first number4\n",
            "enter the second number2\n",
            "1.addition\n",
            "2.subtraction\n",
            "3.multiplication\n",
            "4.division\n",
            "enter your option:4\n",
            "2.0\n"
          ]
        }
      ]
    },
    {
      "cell_type": "markdown",
      "source": [
        "3.ANSWER"
      ],
      "metadata": {
        "id": "MKy3hxwARY6p"
      }
    },
    {
      "cell_type": "code",
      "source": [
        "import math\n",
        "def triangle(length1,lengh2):\n",
        "  result=math.sqrt(length1*length1+length2*length2)\n",
        "  return result\n",
        "length1=int(input(\"enter one side of length\"))\n",
        "length2=int(input(\"enter other side of length\"))\n",
        "hypotenous=triangle(length1,length2)\n",
        "print(\"hypotenios of triangle =\"+str(hypotenous))"
      ],
      "metadata": {
        "colab": {
          "base_uri": "https://localhost:8080/"
        },
        "id": "7UhRf-NkRUWg",
        "outputId": "c7c82a61-fe84-43ba-a90f-6302b9c4142f"
      },
      "execution_count": null,
      "outputs": [
        {
          "output_type": "stream",
          "name": "stdout",
          "text": [
            "enter one side of length2\n",
            "enter other side of length3\n",
            "hypotenios of triangle =3.605551275463989\n"
          ]
        }
      ]
    },
    {
      "cell_type": "markdown",
      "source": [],
      "metadata": {
        "id": "gkW3OpgORQHq"
      }
    },
    {
      "cell_type": "markdown",
      "source": [
        "4.ANSWER"
      ],
      "metadata": {
        "id": "SMlcBijG3LoV"
      }
    },
    {
      "cell_type": "code",
      "source": [
        "class rectangle:\n",
        "  def __init__(self,length,width):\n",
        "    self.length=length\n",
        "    self.width=width\n",
        "  def calculate_perimeter(self):\n",
        "    return 2*(self.length+self.width)\n",
        "\n",
        "\n",
        "  def calculate_area(self):\n",
        "    return self.length*self.width\n",
        "  def display(self):\n",
        "    print(\"length of rectangle=\"+str(self.length))\n",
        "    print(\"width of rectangle=\"+str(self.width))\n",
        "\n",
        "    print(f\"area of rectangle:{area}\")\n",
        "\n",
        "    print(f\"perimeter of rectangle:{perimeter}\")\n",
        "\n",
        "my_rectangle=rectangle(8,9)\n",
        "area=my_rectangle.calculate_area()\n",
        "perimeter=my_rectangle.calculate_perimeter()\n",
        "my_rectangle.display()\n",
        "\n",
        "\n",
        "\n"
      ],
      "metadata": {
        "id": "dDnyuwUz65FW",
        "colab": {
          "base_uri": "https://localhost:8080/"
        },
        "outputId": "50327c80-0e3a-4730-ec9b-15764e92bc4c"
      },
      "execution_count": null,
      "outputs": [
        {
          "output_type": "stream",
          "name": "stdout",
          "text": [
            "length of rectangle=8\n",
            "width of rectangle=9\n",
            "area of rectangle:72\n",
            "perimeter of rectangle:34\n"
          ]
        }
      ]
    },
    {
      "cell_type": "markdown",
      "source": [
        "5.ANSWER"
      ],
      "metadata": {
        "id": "G6h3nBZ8Hq3S"
      }
    },
    {
      "cell_type": "code",
      "source": [
        "class bankaccount:\n",
        "   def __init__(self,accountnumber,name,balance):\n",
        "    self.accountnumber=accountnumber\n",
        "    self.name=name\n",
        "    self.balance=balance\n",
        "   def deposite(self,dep_amount):\n",
        "    self.balance=self.balance+dep_amount\n",
        "    return self.balance\n",
        "   def withdrwal(self,wid_amount):\n",
        "    self.balance=self.balance-wid_amount\n",
        "    return self.balance\n",
        "   def calculate_bankfee(self):\n",
        "    return self.balance*5/100\n",
        "   def display(self):\n",
        "    print(\"ACCOUNT DETAILS\")\n",
        "    print(\"accountnumber:\",self.accountnumber)\n",
        "    print(\"name:\",self.name)\n",
        "    print(\"balance:\",self.balance)\n",
        "    print(\"bankfee:\",bankfee)\n",
        "\n",
        "accountnumber=int(input(\"enter your accountnumber:\"))\n",
        "name=str(input(\"enter your name:\"))\n",
        "my_bankaccount=bankaccount(accountnumber,name,10000)\n",
        "\n",
        "\n",
        "print(\"deposite\"\"\\n\"\"withdrwal\")\n",
        "option=str(input(\"enter your option:\"))\n",
        "if option==\"deposite\":\n",
        "  dep_amount=int(input(\"how many rupees you want to deposite:\"))\n",
        "  depositemoney=my_bankaccount.deposite(dep_amount)\n",
        "  print(\"available balance is:\",depositemoney)\n",
        "elif option==\"withdrwal\":\n",
        "  wid_amount=int(input(\"how many rupees you want to withdrwal:\"))\n",
        "  withdrwalmoney=my_bankaccount.withdrwal(wid_amount)\n",
        "  print(\"available balance is:\",withdrwalmoney)\n",
        "bankfee=my_bankaccount.calculate_bankfee()\n",
        "my_bankaccount.display()\n"
      ],
      "metadata": {
        "id": "U6YaemRq81fH",
        "colab": {
          "base_uri": "https://localhost:8080/"
        },
        "outputId": "3cf156f1-03b3-4dc1-d804-aea5b68de2b9"
      },
      "execution_count": null,
      "outputs": [
        {
          "output_type": "stream",
          "name": "stdout",
          "text": [
            "enter your accountnumber:123\n",
            "enter your name:sruthi\n",
            "deposite\n",
            "withdrwal\n",
            "enter your option:deposite\n",
            "how many rupees you want to deposite:100\n",
            "available balance is: 10100\n",
            "ACCOUNT DETAILS\n",
            "accountnumber: 123\n",
            "name: sruthi\n",
            "balance: 10100\n",
            "bankfee: 505.0\n"
          ]
        }
      ]
    },
    {
      "cell_type": "code",
      "source": [],
      "metadata": {
        "id": "n7cm7ob2NhOq"
      },
      "execution_count": null,
      "outputs": []
    },
    {
      "cell_type": "code",
      "source": [],
      "metadata": {
        "id": "6UhcdT8MmYYW"
      },
      "execution_count": null,
      "outputs": []
    }
  ]
}